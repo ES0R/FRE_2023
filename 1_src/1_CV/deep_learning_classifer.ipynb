{
 "cells": [
  {
   "cell_type": "code",
   "execution_count": null,
   "metadata": {},
   "outputs": [],
   "source": [
    "import cv2\n",
    "\n",
    "# Load the pre-trained YOLO model\n",
    "net = cv2.dnn.readNetFromDarknet('path/to/yolo/config/file', 'path/to/yolo/weights/file')\n"
   ]
  }
 ],
 "metadata": {
  "language_info": {
   "name": "python"
  },
  "orig_nbformat": 4
 },
 "nbformat": 4,
 "nbformat_minor": 2
}
