{
 "cells": [
  {
   "cell_type": "code",
   "execution_count": 2,
   "metadata": {},
   "outputs": [],
   "source": [
    "import cv2\n",
    "from tensorflow import keras\n",
    "import tensorflow as tf\n",
    "from PIL import Image\n",
    "import numpy as np\n"
   ]
  },
  {
   "cell_type": "code",
   "execution_count": 3,
   "metadata": {},
   "outputs": [],
   "source": [
    "#Load data stuff and model\n",
    "labels_names =['Deer','Human','Unknown']\n",
    "data_train = np.load('data.npy')\n",
    "labels_train = np.load('labels.npy')\n",
    "labels_train = labels_train.astype(int)\n",
    "class_labels, _ = np.unique(labels_train, return_counts=True)\n",
    "\n",
    "model = keras.models.load_model('retrained_model_ResNet50_1.h5')"
   ]
  },
  {
   "cell_type": "code",
   "execution_count": 5,
   "metadata": {},
   "outputs": [
    {
     "name": "stdout",
     "output_type": "stream",
     "text": [
      "1/1 [==============================] - 1s 1s/step\n",
      "Class: 1 - Deer | 100.00 %\n"
     ]
    }
   ],
   "source": [
    "#Example with random deer image\n",
    "image_path = 'test_validation_images/deer_3.png'\n",
    "image = Image.open(image_path).convert('RGB')\n",
    "\n",
    "\n",
    "image_array = np.array(image)\n",
    "\n",
    "img_height = 224\n",
    "img_width = 224\n",
    "\n",
    "img = tf.image.resize(image_array, size=[img_height,img_width])\n",
    "img =tf.expand_dims(img,0)\n",
    "\n",
    "# Predictions\n",
    "predictions = model.predict(img)\n",
    "score = tf.nn.softmax(predictions[0])\n",
    "\n",
    "print(\n",
    "    \"Class: {} - {} | {:.2f} %\"\n",
    "    .format(class_labels[np.argmax(score)], labels_names[class_labels[np.argmax(score)]-1] , 100 * np.max(score))\n",
    ")\n"
   ]
  },
  {
   "cell_type": "code",
   "execution_count": 6,
   "metadata": {},
   "outputs": [
    {
     "name": "stdout",
     "output_type": "stream",
     "text": [
      "1/1 [==============================] - 1s 1s/step\n",
      "Class: 2 - Human | 100.00 %\n"
     ]
    }
   ],
   "source": [
    "\n",
    "def capture_image():\n",
    "    camera = cv2.VideoCapture(0)  \n",
    "\n",
    "    while True:\n",
    "        ret, frame = camera.read()\n",
    "        cv2.imshow(\"Camera\", frame)\n",
    "        \n",
    "        if cv2.waitKey(1) & 0xFF == ord('q'): \n",
    "            break\n",
    "\n",
    "    camera.release()\n",
    "    cv2.destroyAllWindows()\n",
    "\n",
    "\n",
    "    image = Image.fromarray(cv2.cvtColor(frame, cv2.COLOR_BGR2RGB))\n",
    "    return image\n",
    "\n",
    "\n",
    "captured_image = capture_image()\n",
    "\n",
    "resized_image = captured_image.resize((img_width, img_height))\n",
    "image_array = np.array(resized_image)\n",
    "img = tf.expand_dims(image_array, 0)\n",
    "\n",
    "\n",
    "predictions = model.predict(img)\n",
    "score = tf.nn.softmax(predictions[0])\n",
    "\n",
    "predicted_class = np.argmax(score)\n",
    "class_label = labels_names[predicted_class]\n",
    "\n",
    "\n",
    "print(\n",
    "    \"Class: {} - {} | {:.2f} %\"\n",
    "    .format(class_labels[np.argmax(score)], labels_names[class_labels[np.argmax(score)]-1] , 100 * np.max(score))\n",
    ")\n"
   ]
  }
 ],
 "metadata": {
  "kernelspec": {
   "display_name": "base",
   "language": "python",
   "name": "python3"
  },
  "language_info": {
   "codemirror_mode": {
    "name": "ipython",
    "version": 3
   },
   "file_extension": ".py",
   "mimetype": "text/x-python",
   "name": "python",
   "nbconvert_exporter": "python",
   "pygments_lexer": "ipython3",
   "version": "3.10.7"
  },
  "orig_nbformat": 4
 },
 "nbformat": 4,
 "nbformat_minor": 2
}
