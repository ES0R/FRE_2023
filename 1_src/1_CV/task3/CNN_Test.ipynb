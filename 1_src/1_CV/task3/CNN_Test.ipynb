{
 "cells": [
  {
   "cell_type": "code",
   "execution_count": 48,
   "metadata": {},
   "outputs": [],
   "source": [
    "import cv2\n",
    "from tensorflow import keras\n",
    "import tensorflow as tf\n",
    "from PIL import Image\n",
    "import numpy as np\n"
   ]
  },
  {
   "cell_type": "code",
   "execution_count": 50,
   "metadata": {},
   "outputs": [],
   "source": [
    "#Load data stuff and model\n",
    "labels_names =['Deer','Human','Unknown']\n",
    "data_train = np.load('data.npy')\n",
    "labels_train = np.load('labels.npy')\n",
    "labels_train = labels_train.astype(int)\n",
    "class_labels, _ = np.unique(labels_train, return_counts=True)\n",
    "\n",
    "model = keras.models.load_model('retrained_model_ResNet50_1.h5')"
   ]
  },
  {
   "cell_type": "code",
   "execution_count": 64,
   "metadata": {},
   "outputs": [
    {
     "name": "stdout",
     "output_type": "stream",
     "text": [
      "1/1 [==============================] - 0s 72ms/step\n",
      "Class: 1 - Deer | 100.00 %\n"
     ]
    }
   ],
   "source": [
    "#Example with random deer image\n",
    "image_path = 'test_validation_images/deer_3.png'\n",
    "image = Image.open(image_path).convert('RGB')\n",
    "\n",
    "\n",
    "image_array = np.array(image)\n",
    "\n",
    "img_height = 224\n",
    "img_width = 224\n",
    "\n",
    "img = tf.image.resize(image_array, size=[img_height,img_width])\n",
    "img =tf.expand_dims(img,0)\n",
    "\n",
    "# Predictions\n",
    "predictions = model.predict(img)\n",
    "score = tf.nn.softmax(predictions[0])\n",
    "\n",
    "print(\n",
    "    \"Class: {} - {} | {:.2f} %\"\n",
    "    .format(class_labels[np.argmax(score)], labels_names[class_labels[np.argmax(score)]-1] , 100 * np.max(score))\n",
    ")\n"
   ]
  },
  {
   "cell_type": "code",
   "execution_count": null,
   "metadata": {},
   "outputs": [],
   "source": [
    "img = tf.keras.utils.load_img(\n",
    "    sunflower_path, target_size=(img_height, img_width)\n",
    ")\n",
    "img_array = tf.keras.utils.img_to_array(img)\n",
    "img_array = tf.expand_dims(img_array, 0) # Create a batch\n",
    "\n",
    "predictions = custom_model.predict(img_array)\n",
    "score = tf.nn.softmax(predictions[0])\n",
    "\n",
    "print(\n",
    "    \"This image most likely belongs to {} with a {:.2f} percent confidence.\"\n",
    "    .format(class_labels[np.argmax(score)], 100 * np.max(score))\n",
    ")"
   ]
  }
 ],
 "metadata": {
  "kernelspec": {
   "display_name": "base",
   "language": "python",
   "name": "python3"
  },
  "language_info": {
   "codemirror_mode": {
    "name": "ipython",
    "version": 3
   },
   "file_extension": ".py",
   "mimetype": "text/x-python",
   "name": "python",
   "nbconvert_exporter": "python",
   "pygments_lexer": "ipython3",
   "version": "3.10.9"
  },
  "orig_nbformat": 4
 },
 "nbformat": 4,
 "nbformat_minor": 2
}
